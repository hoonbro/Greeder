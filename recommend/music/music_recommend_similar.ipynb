{
 "cells": [
  {
   "cell_type": "code",
   "execution_count": 3,
   "id": "48b6df40-1c32-4a78-ab3f-1eea649fd8f7",
   "metadata": {},
   "outputs": [],
   "source": [
    "# 1. data load\n",
    "import pandas as pd\n",
    "from sklearn import preprocessing\n",
    "from sklearn.metrics.pairwise import cosine_similarity\n",
    "\n",
    "df_30 = pd.read_csv('../Data/music_data/features_30_sec.csv', index_col='filename')\n",
    "labels = df_30[['label']]\n",
    "df_30 = df_30.drop(columns=['length','label'])\n",
    "df_30_scaled = preprocessing.scale(df_30)\n",
    "df_30 = pd.DataFrame(df_30_scaled, columns=df_30.columns)\n",
    "\n",
    "# 2. 유사도 설정\n",
    "similarity = cosine_similarity(df_30)\n",
    "sim_df = pd.DataFrame(similarity, index=labels.index, columns=labels.index)\n",
    "\n",
    "# 3. 함수화\n",
    "def find_similar_songs(name, n=5):\n",
    "  series = sim_df[name].sort_values(ascending=False)\n",
    "  series = series.drop(name)\n",
    "  return series.head(n).to_frame()\n",
    "\n",
    "res = find_similar_songs('pop.00007.wav')"
   ]
  },
  {
   "cell_type": "code",
   "execution_count": 4,
   "id": "ccdcd52b-8b50-4b56-9d30-aa9fe56eb3b6",
   "metadata": {},
   "outputs": [
    {
     "data": {
      "text/html": [
       "<div>\n",
       "<style scoped>\n",
       "    .dataframe tbody tr th:only-of-type {\n",
       "        vertical-align: middle;\n",
       "    }\n",
       "\n",
       "    .dataframe tbody tr th {\n",
       "        vertical-align: top;\n",
       "    }\n",
       "\n",
       "    .dataframe thead th {\n",
       "        text-align: right;\n",
       "    }\n",
       "</style>\n",
       "<table border=\"1\" class=\"dataframe\">\n",
       "  <thead>\n",
       "    <tr style=\"text-align: right;\">\n",
       "      <th></th>\n",
       "      <th>pop.00007.wav</th>\n",
       "    </tr>\n",
       "    <tr>\n",
       "      <th>filename</th>\n",
       "      <th></th>\n",
       "    </tr>\n",
       "  </thead>\n",
       "  <tbody>\n",
       "    <tr>\n",
       "      <th>jazz.00005.wav</th>\n",
       "      <td>0.742879</td>\n",
       "    </tr>\n",
       "    <tr>\n",
       "      <th>country.00011.wav</th>\n",
       "      <td>0.707082</td>\n",
       "    </tr>\n",
       "    <tr>\n",
       "      <th>reggae.00083.wav</th>\n",
       "      <td>0.693160</td>\n",
       "    </tr>\n",
       "    <tr>\n",
       "      <th>jazz.00007.wav</th>\n",
       "      <td>0.685111</td>\n",
       "    </tr>\n",
       "    <tr>\n",
       "      <th>rock.00063.wav</th>\n",
       "      <td>0.677472</td>\n",
       "    </tr>\n",
       "  </tbody>\n",
       "</table>\n",
       "</div>"
      ],
      "text/plain": [
       "                   pop.00007.wav\n",
       "filename                        \n",
       "jazz.00005.wav          0.742879\n",
       "country.00011.wav       0.707082\n",
       "reggae.00083.wav        0.693160\n",
       "jazz.00007.wav          0.685111\n",
       "rock.00063.wav          0.677472"
      ]
     },
     "execution_count": 4,
     "metadata": {},
     "output_type": "execute_result"
    }
   ],
   "source": [
    "res"
   ]
  },
  {
   "cell_type": "code",
   "execution_count": null,
   "id": "7846f5b7-92f9-4e43-a3ea-ecc692dc82ce",
   "metadata": {},
   "outputs": [],
   "source": []
  }
 ],
 "metadata": {
  "kernelspec": {
   "display_name": "Python 3 (ipykernel)",
   "language": "python",
   "name": "python3"
  },
  "language_info": {
   "codemirror_mode": {
    "name": "ipython",
    "version": 3
   },
   "file_extension": ".py",
   "mimetype": "text/x-python",
   "name": "python",
   "nbconvert_exporter": "python",
   "pygments_lexer": "ipython3",
   "version": "3.9.7"
  }
 },
 "nbformat": 4,
 "nbformat_minor": 5
}
